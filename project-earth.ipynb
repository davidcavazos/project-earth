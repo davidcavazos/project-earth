{
  "nbformat": 4,
  "nbformat_minor": 0,
  "metadata": {
    "colab": {
      "name": "Project Earth",
      "version": "0.3.2",
      "provenance": [],
      "collapsed_sections": [],
      "include_colab_link": true
    },
    "kernelspec": {
      "name": "python3",
      "display_name": "Python 3"
    }
  },
  "cells": [
    {
      "cell_type": "markdown",
      "metadata": {
        "id": "view-in-github",
        "colab_type": "text"
      },
      "source": [
        "<a href=\"https://colab.research.google.com/github/davidcavazos/project-earth/blob/master/project-earth.ipynb\" target=\"_parent\"><img src=\"https://colab.research.google.com/assets/colab-badge.svg\" alt=\"Open In Colab\"/></a>"
      ]
    },
    {
      "metadata": {
        "id": "q8k8L1r4rqL1",
        "colab_type": "code",
        "colab": {
          "base_uri": "https://localhost:8080/",
          "height": 181
        },
        "cellView": "form",
        "outputId": "1dd7192a-ffc8-44fe-a7af-ffe4c220e1de"
      },
      "cell_type": "code",
      "source": [
        "#@title Install the Earth Engine API\n",
        "\n",
        "!pip install -q earthengine-api\n",
        "!earthengine authenticate --quiet"
      ],
      "execution_count": 1,
      "outputs": [
        {
          "output_type": "stream",
          "text": [
            "Paste the following address into a web browser:\n",
            "\n",
            "    https://accounts.google.com/o/oauth2/auth?client_id=517222506229-vsmmajv00ul0bs7p89v5m89qs8eb9359.apps.googleusercontent.com&scope=https%3A%2F%2Fwww.googleapis.com%2Fauth%2Fearthengine+https%3A%2F%2Fwww.googleapis.com%2Fauth%2Fdevstorage.full_control&redirect_uri=urn%3Aietf%3Awg%3Aoauth%3A2.0%3Aoob&response_type=code\n",
            "\n",
            "On the web page, please authorize access to your Earth Engine account and copy the authentication code. Next authenticate with the following command:\n",
            "\n",
            "    earthengine authenticate --authorization-code=PLACE_AUTH_CODE_HERE\n",
            "\n"
          ],
          "name": "stdout"
        }
      ]
    },
    {
      "metadata": {
        "id": "WR1SgXmTtMRY",
        "colab_type": "code",
        "colab": {
          "base_uri": "https://localhost:8080/",
          "height": 53
        },
        "cellView": "form",
        "outputId": "d75131fe-c636-4ebb-aa03-fb190ab95eee"
      },
      "cell_type": "code",
      "source": [
        "auth_code = \"4/kQCiUDaCfZhfwIWPrxDy8ngnKP7jzaaZtMqNBOuErhSzqlGFZV5ou2c\" #@param {type:\"string\"}\n",
        "\n",
        "!earthengine authenticate --authorization-code={auth_code}"
      ],
      "execution_count": 2,
      "outputs": [
        {
          "output_type": "stream",
          "text": [
            "\n",
            "Successfully saved authorization token.\n"
          ],
          "name": "stdout"
        }
      ]
    }
  ]
}